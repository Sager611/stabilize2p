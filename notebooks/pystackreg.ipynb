{
 "cells": [
  {
   "cell_type": "markdown",
   "id": "91246819-1900-4068-836a-bfc0a7caa43c",
   "metadata": {},
   "source": [
    "# PystackReg"
   ]
  },
  {
   "cell_type": "code",
   "execution_count": 2,
   "id": "b1f79292-e695-4be7-a857-7607a3b7f0ce",
   "metadata": {},
   "outputs": [],
   "source": [
    "import os\n",
    "os.environ[\"CUDA_VISIBLE_DEVICES\"]=\"1\"\n",
    "# suppress info and warn TF logs\n",
    "os.environ['TF_CPP_MIN_LOG_LEVEL'] = '3'\n",
    "\n",
    "import sys\n",
    "\n",
    "sys.path.insert(0, '../')\n",
    "\n",
    "import cv2\n",
    "import tifffile as tiff\n",
    "import numpy as np\n",
    "import matplotlib\n",
    "import voxelmorph as vxm\n",
    "import tensorflow as tf\n",
    "import nibabel as nib\n",
    "import neurite as ne\n",
    "from matplotlib import pyplot as plt\n",
    "from IPython.display import Video\n",
    "\n",
    "plt.rcParams[\"animation.html\"] = \"jshtml\" \n",
    "plt.rcParams[\"animation.embed_limit\"] = \"500\"  # size limit in MB\n",
    "\n",
    "# Font size\n",
    "plt.style.use('default')\n",
    "\n",
    "SMALL_SIZE = 15\n",
    "MEDIUM_SIZE = 20\n",
    "BIGGER_SIZE = 20\n",
    "\n",
    "plt.rc('font', size=SMALL_SIZE)          # controls default text sizes\n",
    "plt.rc('axes', titlesize=SMALL_SIZE)     # fontsize of the axes title\n",
    "plt.rc('axes', labelsize=MEDIUM_SIZE)    # fontsize of the x and y labels\n",
    "plt.rc('xtick', labelsize=SMALL_SIZE)    # fontsize of the tick labels\n",
    "plt.rc('ytick', labelsize=SMALL_SIZE)    # fontsize of the tick labels\n",
    "plt.rc('legend', fontsize=SMALL_SIZE)    # legend fontsize\n",
    "plt.rc('figure', titlesize=BIGGER_SIZE)  # fontsize of the figure title\n",
    "\n",
    "%reload_ext autoreload\n",
    "%autoreload 2\n",
    "%matplotlib notebook\n",
    "%matplotlib inline"
   ]
  },
  {
   "cell_type": "code",
   "execution_count": 3,
   "id": "cf85f209-0766-4134-86af-c9dcf7604bca",
   "metadata": {},
   "outputs": [],
   "source": [
    "from modules.utils import make_video\n",
    "\n",
    "def frame_gen(video, scores=None, lt=0.9):\n",
    "    std = video[0].std()\n",
    "    print('calculated std')\n",
    "    low = np.quantile(video[0], q=0.01)\n",
    "    if scores is not None:\n",
    "        for img, score in zip(video, scores):\n",
    "            img = (img - low) / std * 255 / 3\n",
    "            img[img < 0] = 0\n",
    "            img[img > 255] = 255\n",
    "            img = img.astype(np.uint8)\n",
    "            if score < lt:\n",
    "                img[:50, :50] = 255\n",
    "            else:\n",
    "                img[:50, :50] = 0\n",
    "            yield img\n",
    "    else:\n",
    "        for img in video:\n",
    "            img = (img - low) / std * 255 / 3\n",
    "            img[img < 0] = 0\n",
    "            img[img > 255] = 255\n",
    "            img = img.astype(np.uint8)\n",
    "            yield img"
   ]
  },
  {
   "cell_type": "code",
   "execution_count": 4,
   "id": "52b8b04d-fb86-482d-baa2-84f13bf76dcf",
   "metadata": {},
   "outputs": [],
   "source": [
    "orig_examples = [\n",
    "    '../data/200901_G23xU1/Fly1/Fly1/001_coronal/2p/denoised_red.tif',\n",
    "    '../data/200901_G23xU1/Fly1/Fly1/002_coronal/2p/denoised_red.tif',\n",
    "    '../data/200901_G23xU1/Fly1/Fly1/003_coronal/2p/denoised_red.tif',\n",
    "    '../data/200901_G23xU1/Fly1/Fly1/004_coronal/2p/denoised_red.tif',\n",
    "    '../data/200901_G23xU1/Fly1/Fly1/005_coronal/2p/denoised_red.tif'\n",
    "]\n",
    "\n",
    "warped_examples = [\n",
    "    '../data/200901_G23xU1/Fly1/Fly1/001_coronal/2p/warped_red.tif',\n",
    "    '../data/200901_G23xU1/Fly1/Fly1/002_coronal/2p/warped_red.tif',\n",
    "    '../data/200901_G23xU1/Fly1/Fly1/003_coronal/2p/warped_red.tif',\n",
    "    '../data/200901_G23xU1/Fly1/Fly1/004_coronal/2p/warped_red.tif',\n",
    "    '../data/200901_G23xU1/Fly1/Fly1/005_coronal/2p/warped_red.tif'\n",
    "]\n",
    "\n",
    "pystackreg_examples = [\n",
    "    '../data/200901_G23xU1/Fly1/Fly1/001_coronal/2p/denoised_red.pystackreg-affine.tif',\n",
    "    '../data/200901_G23xU1/Fly1/Fly1/002_coronal/2p/denoised_red.pystackreg-affine.tif',\n",
    "    '../data/200901_G23xU1/Fly1/Fly1/003_coronal/2p/denoised_red.pystackreg-affine.tif',\n",
    "    '../data/200901_G23xU1/Fly1/Fly1/004_coronal/2p/denoised_red.pystackreg-affine.tif',\n",
    "    '../data/200901_G23xU1/Fly1/Fly1/005_coronal/2p/denoised_red.pystackreg-affine.tif'\n",
    "]"
   ]
  },
  {
   "cell_type": "markdown",
   "id": "20f6bfc7-d09c-42be-a7fb-0de1455aa132",
   "metadata": {},
   "source": [
    "## Timings"
   ]
  },
  {
   "cell_type": "code",
   "execution_count": 5,
   "id": "a8fc6add-5472-4262-8e98-8e8650b213ee",
   "metadata": {
    "tags": []
   },
   "outputs": [
    {
     "name": "stdout",
     "output_type": "stream",
     "text": [
      "image shape: (100, 480, 736)\n",
      "Transformation completed in 27.239s | 0.272s per frame\n"
     ]
    }
   ],
   "source": [
    "import time\n",
    "from pystackreg import StackReg\n",
    "\n",
    "N = 100\n",
    "\n",
    "img = tiff.imread(orig_examples[1], key=range(N))\n",
    "print('image shape:', img.shape)\n",
    "\n",
    "sr = StackReg(StackReg.AFFINE)\n",
    "\n",
    "# register each frame to the previous (already registered) one\n",
    "# this is what the original StackReg ImageJ plugin uses\n",
    "t1 = time.perf_counter()\n",
    "out = sr.register_transform_stack(img, reference='first')\n",
    "t2 = time.perf_counter()\n",
    "print(f'Transformation completed in {t2-t1:.3f}s | {(t2-t1)/N:.3f}s per frame')"
   ]
  },
  {
   "cell_type": "code",
   "execution_count": 9,
   "id": "8418ad04-240a-4125-8a71-568db44eab06",
   "metadata": {
    "tags": []
   },
   "outputs": [
    {
     "name": "stdout",
     "output_type": "stream",
     "text": [
      "calculated std\n"
     ]
    },
    {
     "name": "stderr",
     "output_type": "stream",
     "text": [
      "100it [00:00, 219.12it/s]\n"
     ]
    },
    {
     "name": "stdout",
     "output_type": "stream",
     "text": [
      "converting video..\n",
      "Done (0.90s)\n",
      "calculated std\n"
     ]
    },
    {
     "name": "stderr",
     "output_type": "stream",
     "text": [
      "100it [00:00, 219.83it/s]\n"
     ]
    },
    {
     "name": "stdout",
     "output_type": "stream",
     "text": [
      "converting video..\n",
      "Done (0.86s)\n"
     ]
    }
   ],
   "source": [
    "make_video('orig', frame_gen(img))\n",
    "make_video('warped-first', frame_gen(out))"
   ]
  },
  {
   "cell_type": "code",
   "execution_count": 7,
   "id": "f31fb5ef-6a19-4b5a-8665-14689290434d",
   "metadata": {},
   "outputs": [
    {
     "data": {
      "text/html": [
       "<video src=\"orig.mov\" controls  >\n",
       "      Your browser does not support the <code>video</code> element.\n",
       "    </video>"
      ],
      "text/plain": [
       "<IPython.core.display.Video object>"
      ]
     },
     "execution_count": 7,
     "metadata": {},
     "output_type": "execute_result"
    }
   ],
   "source": [
    "Video('orig.mov')"
   ]
  },
  {
   "cell_type": "code",
   "execution_count": 10,
   "id": "35eac220-0b35-49bb-8f77-384cabda5364",
   "metadata": {},
   "outputs": [
    {
     "data": {
      "text/html": [
       "<video src=\"warped-first.mov\" controls  >\n",
       "      Your browser does not support the <code>video</code> element.\n",
       "    </video>"
      ],
      "text/plain": [
       "<IPython.core.display.Video object>"
      ]
     },
     "execution_count": 10,
     "metadata": {},
     "output_type": "execute_result"
    }
   ],
   "source": [
    "Video('warped-first.mov')"
   ]
  },
  {
   "cell_type": "markdown",
   "id": "d41e90f7-3bec-450a-8583-5454ca31da43",
   "metadata": {
    "tags": []
   },
   "source": [
    "## Example"
   ]
  },
  {
   "cell_type": "code",
   "execution_count": 5,
   "id": "223c723c-7452-496b-9ec4-8531aefbac92",
   "metadata": {},
   "outputs": [
    {
     "name": "stdout",
     "output_type": "stream",
     "text": [
      "image shape: (4100, 480, 736)\n",
      "calculated std and mean\n"
     ]
    },
    {
     "name": "stderr",
     "output_type": "stream",
     "text": [
      "4100it [00:18, 216.84it/s]\n"
     ]
    },
    {
     "name": "stdout",
     "output_type": "stream",
     "text": [
      "converting video..\n",
      "Done (28.29s)\n"
     ]
    }
   ],
   "source": [
    "image = tiff.imread('../data/200901_G23xU1/Fly1/Fly1/001_coronal/2p/red.pystackreg.tif')\n",
    "print('image shape:', image.shape)\n",
    "make_video('out', frame_gen(image))\n",
    "del image"
   ]
  },
  {
   "cell_type": "code",
   "execution_count": 6,
   "id": "a73f3a83-8c41-4df9-abb7-7335b16153ab",
   "metadata": {},
   "outputs": [
    {
     "data": {
      "text/html": [
       "<video src=\"out.mov\" controls  >\n",
       "      Your browser does not support the <code>video</code> element.\n",
       "    </video>"
      ],
      "text/plain": [
       "<IPython.core.display.Video object>"
      ]
     },
     "execution_count": 6,
     "metadata": {},
     "output_type": "execute_result"
    }
   ],
   "source": [
    "Video('out.mov')"
   ]
  },
  {
   "cell_type": "markdown",
   "id": "425d9a9a-7d41-41f6-9e60-00dbf7bedb1b",
   "metadata": {},
   "source": [
    "### Centers metric"
   ]
  },
  {
   "cell_type": "code",
   "execution_count": 7,
   "id": "eac761a8-f7e5-42f2-9996-869dcea2ea42",
   "metadata": {},
   "outputs": [],
   "source": [
    "from modules.metrics import get_centers, failure_score"
   ]
  },
  {
   "cell_type": "code",
   "execution_count": 9,
   "id": "167fda94-99b5-4b05-9f16-3c3dbdf10970",
   "metadata": {},
   "outputs": [
    {
     "name": "stdout",
     "output_type": "stream",
     "text": [
      "image shape: (4100, 480, 736)\n",
      "x: 209.63 + 1.18\n",
      "y: 365.47 + 2.09\n",
      "failures: 0\n",
      "failure score: 0.00%\n"
     ]
    },
    {
     "data": {
      "image/png": "[encoded data removed]",
      "text/plain": [
       "<Figure size 576x576 with 1 Axes>"
      ]
     },
     "metadata": {
      "needs_background": "light"
     },
     "output_type": "display_data"
    }
   ],
   "source": [
    "try:\n",
    "    del image\n",
    "except Exception:\n",
    "    pass\n",
    "image = tiff.imread('../data/200901_G23xU1/Fly1/Fly1/001_coronal/2p/red.pystackreg.tif')\n",
    "print('image shape:', image.shape)\n",
    "\n",
    "centers = get_centers(image)\n",
    "\n",
    "m_centers = centers.mean(axis=0)\n",
    "s_centers = centers.std(axis=0)\n",
    "print(f'x: {m_centers[0]:.2f} + {s_centers[0]:.2f}')\n",
    "print(f'y: {m_centers[1]:.2f} + {s_centers[1]:.2f}')\n",
    "\n",
    "score, failures = failure_score(image)\n",
    "print('failures:', sum(failures))\n",
    "print(f'failure score: {score * 100:.2f}%')\n",
    "\n",
    "plt.figure(figsize=(8, 8))\n",
    "ax = plt.subplot(111)\n",
    "circ = plt.Circle(m_centers, 0.1 * min(*image.shape[1:]), color='r', alpha=.25)\n",
    "ax.add_patch(circ)\n",
    "ax.scatter(centers[:, 0], centers[:, 1], s=1.5, alpha=0.5)\n",
    "lx, ly = ax.get_xlim()[0], ax.get_ylim()[0]\n",
    "dx = ax.get_xlim()[1] - lx\n",
    "dy = ax.get_ylim()[1] - ly\n",
    "dmax = max(dx, dy)\n",
    "ax.set_xlim(lx, lx + dmax); ax.set_ylim(ly + dmax, ly);\n",
    "plt.title(r'Centers of mass')\n",
    "plt.show()"
   ]
  },
  {
   "cell_type": "markdown",
   "id": "0752a96c-d2f6-47ee-a62f-848715fced5f",
   "metadata": {},
   "source": [
    "## Repeated pystackreg"
   ]
  },
  {
   "cell_type": "code",
   "execution_count": 27,
   "id": "b50906c6-16f3-4846-a38c-4a611a3cd774",
   "metadata": {},
   "outputs": [
    {
     "name": "stdout",
     "output_type": "stream",
     "text": [
      "image shape: (60, 480, 736) ref score: 4,685,316\n",
      "Repetitions:   1 | ref: 4,685,316 | score: 2,478,426\n",
      "Repetitions:   2 | ref: 4,685,316 | score: 2,255,655\n",
      "Repetitions:   3 | ref: 4,685,316 | score: 2,180,286\n",
      "Repetitions:   4 | ref: 4,685,316 | score: 2,092,864\n",
      "Repetitions:   5 | ref: 4,685,316 | score: 2,074,347\n",
      "Repetitions:   6 | ref: 4,685,316 | score: 2,004,141\n",
      "Repetitions:   7 | ref: 4,685,316 | score: 2,007,761\n",
      "Repetitions:   8 | ref: 4,685,316 | score: 1,950,840\n",
      "Repetitions:   9 | ref: 4,685,316 | score: 1,979,822\n",
      "Repetitions:  10 | ref: 4,685,316 | score: 1,916,178\n",
      "Repetitions:  11 | ref: 4,685,316 | score: 1,957,659\n",
      "Repetitions:  12 | ref: 4,685,316 | score: 1,905,180\n",
      "Repetitions:  13 | ref: 4,685,316 | score: 1,942,654\n",
      "Repetitions:  14 | ref: 4,685,316 | score: 1,890,098\n",
      "Repetitions:  15 | ref: 4,685,316 | score: 1,927,738\n",
      "Repetitions:  16 | ref: 4,685,316 | score: 1,876,942\n",
      "Repetitions:  17 | ref: 4,685,316 | score: 1,928,127\n",
      "Repetitions:  18 | ref: 4,685,316 | score: 1,872,753\n",
      "Repetitions:  19 | ref: 4,685,316 | score: 1,921,195\n",
      "Repetitions:  20 | ref: 4,685,316 | score: 1,871,368\n",
      "Repetitions 20: Transformation completed in 371.288s | 6.188s per frame\n"
     ]
    }
   ],
   "source": [
    "import time\n",
    "from pystackreg import StackReg\n",
    "from modules.metrics import MSE_score\n",
    "\n",
    "N = 60\n",
    "nb_reps = 20\n",
    "\n",
    "img = tiff.imread(orig_examples[1], key=range(N))\n",
    "ref_score = MSE_score(img)\n",
    "print('image shape:', img.shape, f'ref score: {ref_score:,.0f}')\n",
    "\n",
    "sr = StackReg(StackReg.AFFINE)\n",
    "\n",
    "# register each frame to the previous (already registered) one\n",
    "# this is what the original StackReg ImageJ plugin uses\n",
    "t1 = time.perf_counter()\n",
    "out = img\n",
    "for k in range(nb_reps):\n",
    "    out = sr.register_transform_stack(out, reference='first')\n",
    "\n",
    "    score = MSE_score(out)\n",
    "    print(f'Repetitions: {k+1:3d} | ref: {ref_score:,.0f} | score: {score:,.0f}')    \n",
    "t2 = time.perf_counter()\n",
    "print(f'Repetitions {nb_reps}: Transformation completed in {t2-t1:.3f}s | {(t2-t1)/N:.3f}s per frame')"
   ]
  },
  {
   "cell_type": "code",
   "execution_count": null,
   "id": "8c2badf0-b235-4b05-98f6-897873965323",
   "metadata": {},
   "outputs": [],
   "source": [
    "make_video(f'pysreg-{nb_reps}reps', frame_gen(out))\n",
    "Video(f'pysreg-{nb_reps}reps.mov')"
   ]
  }
 ],
 "metadata": {
  "kernelspec": {
   "display_name": "Python 3 (ipykernel)",
   "language": "python",
   "name": "python3"
  },
  "language_info": {
   "codemirror_mode": {
    "name": "ipython",
    "version": 3
   },
   "file_extension": ".py",
   "mimetype": "text/x-python",
   "name": "python",
   "nbconvert_exporter": "python",
   "pygments_lexer": "ipython3",
   "version": "3.9.7"
  }
 },
 "nbformat": 4,
 "nbformat_minor": 5
}

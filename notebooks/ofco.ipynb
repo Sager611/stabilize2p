{
 "cells": [
  {
   "cell_type": "markdown",
   "id": "b3a3d5b3-73f2-470b-aeb9-f433abdc44bc",
   "metadata": {},
   "source": [
    "# Optical Flow exploration notebook"
   ]
  },
  {
   "cell_type": "code",
   "execution_count": 1,
   "id": "778f3287-738e-41b4-8740-85e6283d0396",
   "metadata": {},
   "outputs": [],
   "source": [
    "import os\n",
    "os.environ[\"CUDA_VISIBLE_DEVICES\"]=\"1\"\n",
    "# suppress info and warn TF logs\n",
    "os.environ['TF_CPP_MIN_LOG_LEVEL'] = '3'\n",
    "\n",
    "import sys\n",
    "\n",
    "sys.path.insert(0, '../')\n",
    "\n",
    "import cv2\n",
    "import tifffile as tiff\n",
    "import numpy as np\n",
    "import matplotlib\n",
    "import voxelmorph as vxm\n",
    "import tensorflow as tf\n",
    "import nibabel as nib\n",
    "import neurite as ne\n",
    "from matplotlib import pyplot as plt\n",
    "from IPython.display import Video\n",
    "\n",
    "plt.rcParams[\"animation.html\"] = \"jshtml\" \n",
    "plt.rcParams[\"animation.embed_limit\"] = \"500\"  # size limit in MB\n",
    "\n",
    "# Font size\n",
    "plt.style.use('default')\n",
    "\n",
    "SMALL_SIZE = 15\n",
    "MEDIUM_SIZE = 20\n",
    "BIGGER_SIZE = 20\n",
    "\n",
    "plt.rc('font', size=SMALL_SIZE)          # controls default text sizes\n",
    "plt.rc('axes', titlesize=SMALL_SIZE)     # fontsize of the axes title\n",
    "plt.rc('axes', labelsize=MEDIUM_SIZE)    # fontsize of the x and y labels\n",
    "plt.rc('xtick', labelsize=SMALL_SIZE)    # fontsize of the tick labels\n",
    "plt.rc('ytick', labelsize=SMALL_SIZE)    # fontsize of the tick labels\n",
    "plt.rc('legend', fontsize=SMALL_SIZE)    # legend fontsize\n",
    "plt.rc('figure', titlesize=BIGGER_SIZE)  # fontsize of the figure title\n",
    "\n",
    "%reload_ext autoreload\n",
    "%autoreload 2\n",
    "%matplotlib notebook\n",
    "%matplotlib inline"
   ]
  },
  {
   "cell_type": "code",
   "execution_count": 2,
   "id": "2500e4e5-3824-4894-bdfb-68a07ba4e313",
   "metadata": {},
   "outputs": [],
   "source": [
    "from modules.utils import make_video\n",
    "\n",
    "def frame_gen(video, scores=None, lt=0.9):\n",
    "    std = video[0].std()\n",
    "    print('calculated std')\n",
    "    low = np.quantile(video[0], q=0.01)\n",
    "    if scores is not None:\n",
    "        for img, score in zip(video, scores):\n",
    "            img = (img - low) / std * 255 / 3\n",
    "            img[img < 0] = 0\n",
    "            img[img > 255] = 255\n",
    "            img = img.astype(np.uint8)\n",
    "            if score < lt:\n",
    "                img[:50, :50] = 255\n",
    "            else:\n",
    "                img[:50, :50] = 0\n",
    "            yield img\n",
    "    else:\n",
    "        for img in video:\n",
    "            img = (img - low) / std * 255 / 3\n",
    "            img[img < 0] = 0\n",
    "            img[img > 255] = 255\n",
    "            img = img.astype(np.uint8)\n",
    "            yield img"
   ]
  },
  {
   "cell_type": "code",
   "execution_count": 3,
   "id": "c82e86e5-ba6a-4995-b445-45e8e4d61f3f",
   "metadata": {},
   "outputs": [],
   "source": [
    "orig_examples = [\n",
    "    '../data/200901_G23xU1/Fly1/Fly1/001_coronal/2p/denoised_red.tif',\n",
    "    '../data/200901_G23xU1/Fly1/Fly1/002_coronal/2p/denoised_red.tif',\n",
    "    '../data/200901_G23xU1/Fly1/Fly1/003_coronal/2p/denoised_red.tif',\n",
    "    '../data/200901_G23xU1/Fly1/Fly1/004_coronal/2p/denoised_red.tif',\n",
    "    '../data/200901_G23xU1/Fly1/Fly1/005_coronal/2p/denoised_red.tif'\n",
    "]\n",
    "\n",
    "warped_examples = [\n",
    "    '../data/200901_G23xU1/Fly1/Fly1/001_coronal/2p/warped_red.tif',\n",
    "    '../data/200901_G23xU1/Fly1/Fly1/002_coronal/2p/warped_red.tif',\n",
    "    '../data/200901_G23xU1/Fly1/Fly1/003_coronal/2p/warped_red.tif',\n",
    "    '../data/200901_G23xU1/Fly1/Fly1/004_coronal/2p/warped_red.tif',\n",
    "    '../data/200901_G23xU1/Fly1/Fly1/005_coronal/2p/warped_red.tif'\n",
    "]\n",
    "\n",
    "pystackreg_examples = [\n",
    "    '../data/200901_G23xU1/Fly1/Fly1/001_coronal/2p/denoised_red.pystackreg-affine.tif',\n",
    "    '../data/200901_G23xU1/Fly1/Fly1/002_coronal/2p/denoised_red.pystackreg-affine.tif',\n",
    "    '../data/200901_G23xU1/Fly1/Fly1/003_coronal/2p/denoised_red.pystackreg-affine.tif',\n",
    "    '../data/200901_G23xU1/Fly1/Fly1/004_coronal/2p/denoised_red.pystackreg-affine.tif',\n",
    "    '../data/200901_G23xU1/Fly1/Fly1/005_coronal/2p/denoised_red.pystackreg-affine.tif'\n",
    "]"
   ]
  },
  {
   "cell_type": "markdown",
   "id": "9b5a0480-59cc-4fa4-a2c5-6eba965d137a",
   "metadata": {},
   "source": [
    "## Timings"
   ]
  },
  {
   "cell_type": "code",
   "execution_count": 10,
   "id": "48c44778-0ac1-4e30-998f-1fa160564a5e",
   "metadata": {},
   "outputs": [
    {
     "name": "stdout",
     "output_type": "stream",
     "text": [
      "Elapsed 70s | 14s per frame\n"
     ]
    }
   ],
   "source": [
    "import time\n",
    "from ofco import motion_compensate\n",
    "from ofco.utils import default_parameters\n",
    "\n",
    "N = 5\n",
    "\n",
    "key = range(N)\n",
    "\n",
    "stack1 = tiff.imread(orig_examples[1], key=key)\n",
    "# stack2 = tiff.imread(orig_examples[1].replace('_red', '_green'), key=key)\n",
    "\n",
    "param = default_parameters()\n",
    "frames = [i for i in key]\n",
    "\n",
    "t1 = time.perf_counter()\n",
    "stack1_warped, stack2_warped = motion_compensate(stack1, None, frames, param)\n",
    "t2 = time.perf_counter()\n",
    "print(f'Elapsed {t2-t1:.4g}s | {(t2-t1)/N:.4g}s per frame')"
   ]
  }
 ],
 "metadata": {
  "kernelspec": {
   "display_name": "Python 3 (ipykernel)",
   "language": "python",
   "name": "python3"
  },
  "language_info": {
   "codemirror_mode": {
    "name": "ipython",
    "version": 3
   },
   "file_extension": ".py",
   "mimetype": "text/x-python",
   "name": "python",
   "nbconvert_exporter": "python",
   "pygments_lexer": "ipython3",
   "version": "3.9.7"
  }
 },
 "nbformat": 4,
 "nbformat_minor": 5
}
